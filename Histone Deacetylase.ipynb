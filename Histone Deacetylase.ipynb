{
 "cells": [
  {
   "cell_type": "markdown",
   "metadata": {},
   "source": [
    "##Predictive Modeling with pyPCM##"
   ]
  },
  {
   "cell_type": "code",
   "execution_count": 2,
   "metadata": {
    "collapsed": false
   },
   "outputs": [],
   "source": [
    "%matplotlib inline\n",
    "import matplotlib.pyplot as plt\n",
    "import numpy as np\n",
    "import pandas as pd\n",
    "\n",
    "import warnings\n",
    "warnings.simplefilter('ignore', DeprecationWarning)"
   ]
  },
  {
   "cell_type": "code",
   "execution_count": 3,
   "metadata": {
    "collapsed": false
   },
   "outputs": [],
   "source": [
    "data = pd.read_csv('HD_data.csv')"
   ]
  },
  {
   "cell_type": "code",
   "execution_count": 4,
   "metadata": {
    "collapsed": false
   },
   "outputs": [
    {
     "data": {
      "text/html": [
       "<div style=\"max-height:1000px;max-width:1500px;overflow:auto;\">\n",
       "<table border=\"1\" class=\"dataframe\">\n",
       "  <thead>\n",
       "    <tr style=\"text-align: right;\">\n",
       "      <th></th>\n",
       "      <th>Activity</th>\n",
       "      <th>Compound</th>\n",
       "      <th>SubFPC1</th>\n",
       "      <th>SubFPC2</th>\n",
       "      <th>SubFPC3</th>\n",
       "      <th>SubFPC4</th>\n",
       "      <th>SubFPC5</th>\n",
       "      <th>SubFPC6</th>\n",
       "      <th>SubFPC7</th>\n",
       "      <th>SubFPC8</th>\n",
       "      <th>...</th>\n",
       "      <th>m10z2p7</th>\n",
       "      <th>m10z2p8</th>\n",
       "      <th>m10z3p1</th>\n",
       "      <th>m10z3p2</th>\n",
       "      <th>m10z3p3</th>\n",
       "      <th>m10z3p4</th>\n",
       "      <th>m10z3p5</th>\n",
       "      <th>m10z3p6</th>\n",
       "      <th>m10z3p7</th>\n",
       "      <th>m10z3p8</th>\n",
       "    </tr>\n",
       "  </thead>\n",
       "  <tbody>\n",
       "    <tr>\n",
       "      <th>0</th>\n",
       "      <td> Active</td>\n",
       "      <td> CHEMBL2000089</td>\n",
       "      <td> 0</td>\n",
       "      <td> 9</td>\n",
       "      <td> 0</td>\n",
       "      <td> 0</td>\n",
       "      <td> 0</td>\n",
       "      <td> 0</td>\n",
       "      <td> 0</td>\n",
       "      <td> 0</td>\n",
       "      <td>...</td>\n",
       "      <td>-1.73</td>\n",
       "      <td>-0.97</td>\n",
       "      <td> 0.57</td>\n",
       "      <td> 0.57</td>\n",
       "      <td> 2.36</td>\n",
       "      <td>-3.14</td>\n",
       "      <td>-3.44</td>\n",
       "      <td>-1.03</td>\n",
       "      <td> 0.09</td>\n",
       "      <td> 4.13</td>\n",
       "    </tr>\n",
       "    <tr>\n",
       "      <th>1</th>\n",
       "      <td> Active</td>\n",
       "      <td>      CHEMBL99</td>\n",
       "      <td> 2</td>\n",
       "      <td> 0</td>\n",
       "      <td> 1</td>\n",
       "      <td> 0</td>\n",
       "      <td> 2</td>\n",
       "      <td> 0</td>\n",
       "      <td> 0</td>\n",
       "      <td> 0</td>\n",
       "      <td>...</td>\n",
       "      <td>-1.73</td>\n",
       "      <td>-0.97</td>\n",
       "      <td> 0.57</td>\n",
       "      <td> 0.57</td>\n",
       "      <td> 2.36</td>\n",
       "      <td>-3.14</td>\n",
       "      <td>-3.44</td>\n",
       "      <td>-1.03</td>\n",
       "      <td> 0.09</td>\n",
       "      <td> 4.13</td>\n",
       "    </tr>\n",
       "    <tr>\n",
       "      <th>2</th>\n",
       "      <td> Active</td>\n",
       "      <td> CHEMBL2047701</td>\n",
       "      <td> 0</td>\n",
       "      <td> 1</td>\n",
       "      <td> 0</td>\n",
       "      <td> 0</td>\n",
       "      <td> 0</td>\n",
       "      <td> 0</td>\n",
       "      <td> 0</td>\n",
       "      <td> 0</td>\n",
       "      <td>...</td>\n",
       "      <td>-1.73</td>\n",
       "      <td>-0.97</td>\n",
       "      <td> 0.57</td>\n",
       "      <td> 0.57</td>\n",
       "      <td> 2.36</td>\n",
       "      <td>-3.14</td>\n",
       "      <td>-3.44</td>\n",
       "      <td>-1.03</td>\n",
       "      <td> 0.09</td>\n",
       "      <td> 4.13</td>\n",
       "    </tr>\n",
       "    <tr>\n",
       "      <th>3</th>\n",
       "      <td> Active</td>\n",
       "      <td>  CHEMBL343448</td>\n",
       "      <td> 5</td>\n",
       "      <td> 2</td>\n",
       "      <td> 2</td>\n",
       "      <td> 0</td>\n",
       "      <td> 1</td>\n",
       "      <td> 0</td>\n",
       "      <td> 0</td>\n",
       "      <td> 0</td>\n",
       "      <td>...</td>\n",
       "      <td>-1.73</td>\n",
       "      <td>-0.97</td>\n",
       "      <td> 0.57</td>\n",
       "      <td> 0.57</td>\n",
       "      <td> 2.36</td>\n",
       "      <td>-3.14</td>\n",
       "      <td>-3.44</td>\n",
       "      <td>-1.03</td>\n",
       "      <td> 0.09</td>\n",
       "      <td> 4.13</td>\n",
       "    </tr>\n",
       "    <tr>\n",
       "      <th>4</th>\n",
       "      <td> Active</td>\n",
       "      <td>  CHEMBL360194</td>\n",
       "      <td> 2</td>\n",
       "      <td> 8</td>\n",
       "      <td> 0</td>\n",
       "      <td> 0</td>\n",
       "      <td> 0</td>\n",
       "      <td> 0</td>\n",
       "      <td> 0</td>\n",
       "      <td> 0</td>\n",
       "      <td>...</td>\n",
       "      <td>-1.73</td>\n",
       "      <td>-0.97</td>\n",
       "      <td> 0.57</td>\n",
       "      <td> 0.57</td>\n",
       "      <td> 2.36</td>\n",
       "      <td>-3.14</td>\n",
       "      <td>-3.44</td>\n",
       "      <td>-1.03</td>\n",
       "      <td> 0.09</td>\n",
       "      <td> 4.13</td>\n",
       "    </tr>\n",
       "  </tbody>\n",
       "</table>\n",
       "<p>5 rows × 937 columns</p>\n",
       "</div>"
      ],
      "text/plain": [
       "  Activity       Compound  SubFPC1  SubFPC2  SubFPC3  SubFPC4  SubFPC5  \\\n",
       "0   Active  CHEMBL2000089        0        9        0        0        0   \n",
       "1   Active       CHEMBL99        2        0        1        0        2   \n",
       "2   Active  CHEMBL2047701        0        1        0        0        0   \n",
       "3   Active   CHEMBL343448        5        2        2        0        1   \n",
       "4   Active   CHEMBL360194        2        8        0        0        0   \n",
       "\n",
       "   SubFPC6  SubFPC7  SubFPC8   ...     m10z2p7  m10z2p8  m10z3p1  m10z3p2  \\\n",
       "0        0        0        0   ...       -1.73    -0.97     0.57     0.57   \n",
       "1        0        0        0   ...       -1.73    -0.97     0.57     0.57   \n",
       "2        0        0        0   ...       -1.73    -0.97     0.57     0.57   \n",
       "3        0        0        0   ...       -1.73    -0.97     0.57     0.57   \n",
       "4        0        0        0   ...       -1.73    -0.97     0.57     0.57   \n",
       "\n",
       "   m10z3p3  m10z3p4  m10z3p5  m10z3p6  m10z3p7  m10z3p8  \n",
       "0     2.36    -3.14    -3.44    -1.03     0.09     4.13  \n",
       "1     2.36    -3.14    -3.44    -1.03     0.09     4.13  \n",
       "2     2.36    -3.14    -3.44    -1.03     0.09     4.13  \n",
       "3     2.36    -3.14    -3.44    -1.03     0.09     4.13  \n",
       "4     2.36    -3.14    -3.44    -1.03     0.09     4.13  \n",
       "\n",
       "[5 rows x 937 columns]"
      ]
     },
     "execution_count": 4,
     "metadata": {},
     "output_type": "execute_result"
    }
   ],
   "source": [
    "data.head(5)"
   ]
  },
  {
   "cell_type": "code",
   "execution_count": 5,
   "metadata": {
    "collapsed": false
   },
   "outputs": [
    {
     "data": {
      "text/plain": [
       "Activity    22800\n",
       "Compound    22800\n",
       "SubFPC1     22800\n",
       "SubFPC2     22800\n",
       "SubFPC3     22800\n",
       "SubFPC4     22800\n",
       "SubFPC5     22800\n",
       "SubFPC6     22800\n",
       "SubFPC7     22800\n",
       "SubFPC8     22800\n",
       "SubFPC9     22800\n",
       "SubFPC10    22800\n",
       "SubFPC11    22800\n",
       "SubFPC12    22800\n",
       "SubFPC13    22800\n",
       "...\n",
       "m10z2p2    22800\n",
       "m10z2p3    22800\n",
       "m10z2p4    22800\n",
       "m10z2p5    22800\n",
       "m10z2p6    22800\n",
       "m10z2p7    22800\n",
       "m10z2p8    22800\n",
       "m10z3p1    22800\n",
       "m10z3p2    22800\n",
       "m10z3p3    22800\n",
       "m10z3p4    22800\n",
       "m10z3p5    22800\n",
       "m10z3p6    22800\n",
       "m10z3p7    22800\n",
       "m10z3p8    22800\n",
       "Length: 937, dtype: int64"
      ]
     },
     "execution_count": 5,
     "metadata": {},
     "output_type": "execute_result"
    }
   ],
   "source": [
    "data.count()"
   ]
  },
  {
   "cell_type": "code",
   "execution_count": 6,
   "metadata": {
    "collapsed": false
   },
   "outputs": [],
   "source": [
    "compound = data.iloc[:, 2:309]"
   ]
  },
  {
   "cell_type": "code",
   "execution_count": 7,
   "metadata": {
    "collapsed": false
   },
   "outputs": [
    {
     "data": {
      "text/plain": [
       "SubFPC1     22800\n",
       "SubFPC2     22800\n",
       "SubFPC3     22800\n",
       "SubFPC4     22800\n",
       "SubFPC5     22800\n",
       "SubFPC6     22800\n",
       "SubFPC7     22800\n",
       "SubFPC8     22800\n",
       "SubFPC9     22800\n",
       "SubFPC10    22800\n",
       "SubFPC11    22800\n",
       "SubFPC12    22800\n",
       "SubFPC13    22800\n",
       "SubFPC14    22800\n",
       "SubFPC15    22800\n",
       "...\n",
       "SubFPC293    22800\n",
       "SubFPC294    22800\n",
       "SubFPC295    22800\n",
       "SubFPC296    22800\n",
       "SubFPC297    22800\n",
       "SubFPC298    22800\n",
       "SubFPC299    22800\n",
       "SubFPC300    22800\n",
       "SubFPC301    22800\n",
       "SubFPC302    22800\n",
       "SubFPC303    22800\n",
       "SubFPC304    22800\n",
       "SubFPC305    22800\n",
       "SubFPC306    22800\n",
       "SubFPC307    22800\n",
       "Length: 307, dtype: int64"
      ]
     },
     "execution_count": 7,
     "metadata": {},
     "output_type": "execute_result"
    }
   ],
   "source": [
    "compound.count()"
   ]
  },
  {
   "cell_type": "code",
   "execution_count": 8,
   "metadata": {
    "collapsed": false
   },
   "outputs": [
    {
     "name": "stdout",
     "output_type": "stream",
     "text": [
      "[ 253.06246322   43.74058158]\n",
      "[[  2.66742429e-02   6.88682835e-02   1.45269733e-02   5.83758974e-03\n",
      "    1.94859050e-03   1.03105901e-04   3.30872245e-24  -1.09551304e-04\n",
      "   -3.81705419e-03  -9.28833712e-06   7.63449665e-06   6.94634156e-03\n",
      "    6.39591534e-04   3.97779072e-03   2.32895930e-03   1.95705000e-03\n",
      "    5.14850727e-04   2.32251138e-03  -1.46616703e-04  -6.59608162e-04\n",
      "   -5.67672428e-05   0.00000000e+00   1.98332758e-03   5.23524074e-06\n",
      "    0.00000000e+00   7.40540385e-04  -1.86045595e-06  -4.90669202e-05\n",
      "    0.00000000e+00   0.00000000e+00   0.00000000e+00   3.97802394e-04\n",
      "    1.30169676e-03   0.00000000e+00   5.01722954e-05   1.99907935e-04\n",
      "   -6.22681892e-07  -6.85278136e-04   6.86217326e-05   1.05219436e-04\n",
      "    8.45607667e-04  -4.08061920e-06   0.00000000e+00   0.00000000e+00\n",
      "    0.00000000e+00   0.00000000e+00   0.00000000e+00   7.17480058e-05\n",
      "    1.33390681e-03   0.00000000e+00   8.04687583e-06   2.51032412e-05\n",
      "    4.44793469e-04   3.61188118e-05   2.11198513e-05   5.76763449e-05\n",
      "   -4.08061920e-06   0.00000000e+00  -4.08388052e-06   1.25557681e-05\n",
      "    0.00000000e+00  -5.71697136e-04  -5.14610025e-04   0.00000000e+00\n",
      "   -1.15438815e-05  -1.15438815e-05   0.00000000e+00  -1.04524101e-05\n",
      "   -1.69477642e-05   0.00000000e+00   0.00000000e+00   4.33011234e-04\n",
      "    0.00000000e+00   3.55894157e-05   3.30723761e-05   6.16124517e-04\n",
      "    0.00000000e+00  -6.73139298e-06   0.00000000e+00   0.00000000e+00\n",
      "    0.00000000e+00   0.00000000e+00   0.00000000e+00   7.49198215e-04\n",
      "    1.00315713e-03   8.91352659e-04   0.00000000e+00   1.31092080e-02\n",
      "    0.00000000e+00   2.01183158e-05   0.00000000e+00   0.00000000e+00\n",
      "    0.00000000e+00   0.00000000e+00   0.00000000e+00  -1.23057510e-04\n",
      "    0.00000000e+00   0.00000000e+00   1.63048015e-04   7.80365453e-03\n",
      "    2.93054115e-03   0.00000000e+00   2.49931821e-05  -8.81537650e-06\n",
      "   -1.82047305e-05   0.00000000e+00   0.00000000e+00   0.00000000e+00\n",
      "    1.91270658e-04   0.00000000e+00   0.00000000e+00   0.00000000e+00\n",
      "    0.00000000e+00   0.00000000e+00   0.00000000e+00   0.00000000e+00\n",
      "    0.00000000e+00   0.00000000e+00   0.00000000e+00   7.55888692e-07\n",
      "    0.00000000e+00   0.00000000e+00   0.00000000e+00   0.00000000e+00\n",
      "    1.19529073e-05  -2.23063453e-06   3.81468624e-04   6.94197735e-04\n",
      "    1.73961024e-05   0.00000000e+00   0.00000000e+00   3.67594155e-06\n",
      "   -7.25773669e-04   0.00000000e+00   3.27625460e-03   1.47486448e-05\n",
      "   -2.09715835e-03   0.00000000e+00  -4.04130582e-04   9.99277900e-06\n",
      "    0.00000000e+00   0.00000000e+00   1.40668687e-03   0.00000000e+00\n",
      "    0.00000000e+00   0.00000000e+00   7.18655555e-05   0.00000000e+00\n",
      "   -2.05068301e-07  -1.82053385e-04   1.16817543e-04   0.00000000e+00\n",
      "    4.28366037e-04   0.00000000e+00  -7.84877974e-05   0.00000000e+00\n",
      "    1.89886810e-04   0.00000000e+00   1.30497699e-04  -8.97017355e-07\n",
      "    1.00332194e-04  -7.08699654e-08   0.00000000e+00   0.00000000e+00\n",
      "   -9.01577090e-06  -4.39095647e-06   0.00000000e+00   0.00000000e+00\n",
      "    4.60185229e-03   9.33768155e-05  -3.42354075e-03  -2.49512681e-03\n",
      "   -5.24091831e-04  -5.52379430e-05  -1.43283794e-04   0.00000000e+00\n",
      "    0.00000000e+00   0.00000000e+00   9.40527616e-04  -2.77481599e-04\n",
      "   -3.49618900e-03  -1.62946858e-03  -9.58554430e-04  -5.42116599e-03\n",
      "    0.00000000e+00   0.00000000e+00   0.00000000e+00  -2.37093053e-03\n",
      "    0.00000000e+00  -9.45404395e-06   0.00000000e+00   0.00000000e+00\n",
      "    0.00000000e+00   0.00000000e+00   0.00000000e+00  -8.42116270e-06\n",
      "    2.41703185e-04   4.49183588e-04   0.00000000e+00  -2.03787535e-05\n",
      "   -2.91755891e-05   0.00000000e+00   0.00000000e+00   0.00000000e+00\n",
      "    0.00000000e+00   0.00000000e+00   0.00000000e+00   0.00000000e+00\n",
      "    3.99781217e-06   0.00000000e+00   0.00000000e+00  -9.97946325e-06\n",
      "    0.00000000e+00  -2.87877755e-04   0.00000000e+00   0.00000000e+00\n",
      "    0.00000000e+00   0.00000000e+00   0.00000000e+00   0.00000000e+00\n",
      "    0.00000000e+00   0.00000000e+00   0.00000000e+00  -5.00468041e-05\n",
      "    0.00000000e+00  -3.55508520e-06   0.00000000e+00   0.00000000e+00\n",
      "    0.00000000e+00   0.00000000e+00   1.23763166e-05   0.00000000e+00\n",
      "    0.00000000e+00   0.00000000e+00   1.23763166e-05   0.00000000e+00\n",
      "    0.00000000e+00   0.00000000e+00   0.00000000e+00   0.00000000e+00\n",
      "    0.00000000e+00   0.00000000e+00   0.00000000e+00   0.00000000e+00\n",
      "    0.00000000e+00   3.25110484e-07   0.00000000e+00  -3.41477758e-06\n",
      "    0.00000000e+00  -3.41477758e-06   0.00000000e+00   0.00000000e+00\n",
      "    0.00000000e+00   0.00000000e+00   0.00000000e+00   0.00000000e+00\n",
      "    0.00000000e+00   0.00000000e+00   0.00000000e+00   0.00000000e+00\n",
      "    0.00000000e+00   0.00000000e+00   0.00000000e+00   0.00000000e+00\n",
      "    0.00000000e+00   0.00000000e+00   0.00000000e+00   0.00000000e+00\n",
      "    0.00000000e+00   0.00000000e+00   0.00000000e+00   0.00000000e+00\n",
      "    0.00000000e+00  -2.55732184e-02   1.13277657e-02   4.25380159e-05\n",
      "    0.00000000e+00   0.00000000e+00  -1.18853625e-04  -1.18853625e-04\n",
      "    5.33525736e-04   7.86190338e-04   4.68298281e-04   3.10381980e-06\n",
      "    7.86190338e-04   7.86190338e-04  -1.06638611e-02  -7.12087416e-04\n",
      "    0.00000000e+00   0.00000000e+00  -4.50756284e-06   0.00000000e+00\n",
      "    0.00000000e+00  -1.11241950e-03   9.00637342e-02  -3.54495661e-04\n",
      "   -2.25346114e-03   1.89896548e-03  -2.25346114e-03   6.79431113e-01\n",
      "    6.79431113e-01   8.22048424e-02   2.79534754e-03   0.00000000e+00\n",
      "    0.00000000e+00   0.00000000e+00   2.34079580e-01]\n",
      " [  3.50735467e-02   1.29106051e-01   2.63708032e-02   5.90951196e-03\n",
      "    5.18064632e-03   5.55306855e-04   1.35525272e-20   3.44557430e-04\n",
      "    1.49563300e-03   3.75191965e-05   5.22055400e-05   8.66285871e-03\n",
      "    6.67164451e-04   4.71205980e-03   3.28363446e-03   3.62210159e-03\n",
      "    1.42224178e-03  -1.58866532e-02  -1.85073061e-03  -6.64548485e-03\n",
      "   -1.98862029e-04   0.00000000e+00  -2.12427079e-03  -7.19922005e-06\n",
      "    0.00000000e+00  -2.18348368e-05   1.08415020e-05  -1.56869914e-03\n",
      "    0.00000000e+00   0.00000000e+00   0.00000000e+00  -1.07469248e-03\n",
      "   -2.32546651e-03   0.00000000e+00  -3.16588490e-05   4.16584916e-04\n",
      "    2.08883881e-03  -6.59694507e-03   4.47281247e-05  -1.69874285e-04\n",
      "    1.39685188e-03  -8.53435805e-06   0.00000000e+00   0.00000000e+00\n",
      "    0.00000000e+00   0.00000000e+00   0.00000000e+00   1.51866363e-04\n",
      "    1.75966504e-03   0.00000000e+00   3.27493665e-06   1.49254455e-05\n",
      "    4.43391889e-04   3.71677361e-04   1.99614440e-04   1.82447765e-04\n",
      "   -8.53435805e-06   0.00000000e+00  -6.01551036e-06   4.54958488e-06\n",
      "    0.00000000e+00   1.53332040e-03   1.71625069e-03   0.00000000e+00\n",
      "    9.58379107e-05   9.58379107e-05   0.00000000e+00   2.33988469e-05\n",
      "    8.94864611e-05   0.00000000e+00   0.00000000e+00   1.96254996e-04\n",
      "    0.00000000e+00  -2.25463869e-04   4.12476428e-05   2.65585847e-04\n",
      "    0.00000000e+00  -2.52123036e-07   0.00000000e+00   0.00000000e+00\n",
      "    0.00000000e+00   0.00000000e+00   0.00000000e+00  -1.28828672e-03\n",
      "    7.59677068e-04   8.07064259e-04   0.00000000e+00  -1.75694526e-02\n",
      "    0.00000000e+00   4.59433791e-05   0.00000000e+00   0.00000000e+00\n",
      "    0.00000000e+00   0.00000000e+00   0.00000000e+00  -1.03318816e-02\n",
      "    0.00000000e+00   0.00000000e+00  -5.20126228e-05  -1.77567363e-02\n",
      "   -3.50576237e-04   0.00000000e+00  -7.29005673e-04  -8.04326310e-05\n",
      "   -9.65306422e-05   0.00000000e+00   0.00000000e+00   0.00000000e+00\n",
      "    1.78400894e-04   0.00000000e+00   0.00000000e+00   0.00000000e+00\n",
      "    0.00000000e+00   0.00000000e+00   0.00000000e+00   0.00000000e+00\n",
      "    0.00000000e+00   0.00000000e+00   0.00000000e+00   1.42707784e-04\n",
      "    0.00000000e+00   0.00000000e+00   0.00000000e+00   0.00000000e+00\n",
      "   -1.03346199e-05   5.07324321e-07   1.27666671e-03  -1.15974631e-03\n",
      "    1.06504779e-05   0.00000000e+00   0.00000000e+00  -3.12069659e-05\n",
      "    1.23182039e-03   0.00000000e+00  -1.10222499e-02   1.44090563e-04\n",
      "   -3.75599816e-02   0.00000000e+00   1.46931053e-05   6.07624378e-06\n",
      "    0.00000000e+00   0.00000000e+00   8.11214954e-03   0.00000000e+00\n",
      "    0.00000000e+00   0.00000000e+00  -7.59959776e-05   0.00000000e+00\n",
      "    5.91259626e-06  -1.03282470e-03  -1.15433393e-03   0.00000000e+00\n",
      "    1.65997216e-04   0.00000000e+00   1.55433190e-03   0.00000000e+00\n",
      "    3.11847405e-04   0.00000000e+00   2.40378429e-03  -4.85325348e-07\n",
      "    3.66800082e-04  -5.05923220e-07   0.00000000e+00   0.00000000e+00\n",
      "    4.13978521e-05  -1.73320726e-06   0.00000000e+00   0.00000000e+00\n",
      "   -6.96926600e-03  -5.30843209e-04  -3.38884939e-03  -1.00265144e-03\n",
      "    9.32669683e-06  -1.33214270e-04   2.65349021e-04   0.00000000e+00\n",
      "    0.00000000e+00   0.00000000e+00  -1.24821098e-02  -1.06705931e-02\n",
      "   -4.54070325e-02  -5.39238856e-03  -3.54361156e-03  -7.74957354e-02\n",
      "    0.00000000e+00   0.00000000e+00   0.00000000e+00  -1.13034706e-03\n",
      "    0.00000000e+00  -6.12024070e-05   0.00000000e+00   0.00000000e+00\n",
      "    0.00000000e+00   0.00000000e+00   0.00000000e+00   3.61290992e-06\n",
      "   -3.46769298e-04  -4.15116695e-03   0.00000000e+00   2.56391634e-04\n",
      "   -5.06452270e-05   0.00000000e+00   0.00000000e+00   0.00000000e+00\n",
      "    0.00000000e+00   0.00000000e+00   0.00000000e+00   0.00000000e+00\n",
      "    5.73567469e-05   0.00000000e+00   0.00000000e+00  -3.48398879e-05\n",
      "    0.00000000e+00  -1.28860546e-03   0.00000000e+00   0.00000000e+00\n",
      "    0.00000000e+00   0.00000000e+00   0.00000000e+00   0.00000000e+00\n",
      "    0.00000000e+00   0.00000000e+00   0.00000000e+00   9.16696725e-04\n",
      "    0.00000000e+00  -1.62369117e-06   0.00000000e+00   0.00000000e+00\n",
      "    0.00000000e+00   0.00000000e+00  -5.47319215e-06   0.00000000e+00\n",
      "    0.00000000e+00   0.00000000e+00  -5.47319215e-06   0.00000000e+00\n",
      "    0.00000000e+00   0.00000000e+00   0.00000000e+00   0.00000000e+00\n",
      "    0.00000000e+00   0.00000000e+00   0.00000000e+00   0.00000000e+00\n",
      "    0.00000000e+00   2.62437395e-05   0.00000000e+00  -2.44950598e-05\n",
      "    0.00000000e+00  -2.44950598e-05   0.00000000e+00   0.00000000e+00\n",
      "    0.00000000e+00   0.00000000e+00   0.00000000e+00   0.00000000e+00\n",
      "    0.00000000e+00   0.00000000e+00   0.00000000e+00   0.00000000e+00\n",
      "    0.00000000e+00   0.00000000e+00   0.00000000e+00   0.00000000e+00\n",
      "    0.00000000e+00   0.00000000e+00   0.00000000e+00   0.00000000e+00\n",
      "    0.00000000e+00   0.00000000e+00   0.00000000e+00   0.00000000e+00\n",
      "    0.00000000e+00  -7.01993334e-01  -8.93381672e-02   4.28077566e-05\n",
      "    0.00000000e+00   0.00000000e+00   6.94222566e-03   6.94222566e-03\n",
      "    2.18583641e-04   8.76981215e-04   4.56532574e-04   1.21788314e-05\n",
      "    8.76981215e-04   8.76981215e-04  -8.70478910e-02   4.05136306e-04\n",
      "    0.00000000e+00   0.00000000e+00   2.94518171e-06   0.00000000e+00\n",
      "    0.00000000e+00   5.03209554e-05  -2.23948124e-01  -1.00946303e-02\n",
      "   -2.08715471e-03  -8.00747558e-03  -2.08715471e-03   1.04537705e-01\n",
      "    1.04537705e-01  -5.98941263e-02   2.69175850e-03   0.00000000e+00\n",
      "    0.00000000e+00   0.00000000e+00  -6.21132503e-01]]\n"
     ]
    }
   ],
   "source": [
    "from sklearn.decomposition import PCA\n",
    "pca = PCA(n_components = 2)\n",
    "pca.fit(compound)\n",
    "print(pca.explained_variance_)\n",
    "print(pca.components_)"
   ]
  },
  {
   "cell_type": "markdown",
   "metadata": {},
   "source": [
    "###Explained Variance Plot for Compound###"
   ]
  },
  {
   "cell_type": "code",
   "execution_count": 10,
   "metadata": {
    "collapsed": false
   },
   "outputs": [
    {
     "data": {
      "image/png": "[encoded data removed]",
      "text/plain": [
       "<matplotlib.figure.Figure at 0xc5444e0>"
      ]
     },
     "metadata": {},
     "output_type": "display_data"
    }
   ],
   "source": [
    "plt.title(\"Explained Variance\")\n",
    "plt.ylabel(\"Percentage of explained variance\")\n",
    "plt.xlabel(\"PCA Components\")\n",
    "plt.plot(pca.explained_variance_ratio_);"
   ]
  },
  {
   "cell_type": "markdown",
   "metadata": {},
   "source": [
    "###Cumulated Explained Variance plot for Compound###"
   ]
  },
  {
   "cell_type": "code",
   "execution_count": 11,
   "metadata": {
    "collapsed": false
   },
   "outputs": [
    {
     "data": {
      "image/png": "[encoded data removed]",
      "text/plain": [
       "<matplotlib.figure.Figure at 0xb5f6710>"
      ]
     },
     "metadata": {},
     "output_type": "display_data"
    }
   ],
   "source": [
    "plt.title(\"Cumulated Explained Variance\")\n",
    "plt.ylabel(\"Percentage of explained variance\")\n",
    "plt.xlabel(\"PCA Components\")\n",
    "plt.plot(np.cumsum(pca.explained_variance_ratio_));"
   ]
  },
  {
   "cell_type": "code",
   "execution_count": 12,
   "metadata": {
    "collapsed": false
   },
   "outputs": [],
   "source": [
    "compound = compound\n",
    "activity = data.iloc[:, 0]"
   ]
  },
  {
   "cell_type": "markdown",
   "metadata": {},
   "source": [
    "###Data Partition###"
   ]
  },
  {
   "cell_type": "code",
   "execution_count": 43,
   "metadata": {
    "collapsed": false
   },
   "outputs": [
    {
     "name": "stdout",
     "output_type": "stream",
     "text": [
      "train data shape: (18240, 307), train target shape: (18240,)\n",
      "test data shape: (4560, 307), test target shape: (4560,)\n"
     ]
    }
   ],
   "source": [
    "from sklearn.cross_validation import train_test_split\n",
    "compound_train, compound_test, activity_train, activity_test = train_test_split(\n",
    "    compound, activity, test_size = 0.20, random_state = 0)\n",
    "print(\"train data shape: %r, train target shape: %r\"\n",
    "     % (compound_train.shape, activity_train.shape))\n",
    "print(\"test data shape: %r, test target shape: %r\"\n",
    "     % (compound_test.shape, activity_test.shape))"
   ]
  },
  {
   "cell_type": "markdown",
   "metadata": {},
   "source": [
    "###Classification with Logistic Regression###"
   ]
  },
  {
   "cell_type": "code",
   "execution_count": 44,
   "metadata": {
    "collapsed": false
   },
   "outputs": [
    {
     "data": {
      "text/plain": [
       "LogisticRegression(C=1, class_weight=None, dual=False, fit_intercept=True,\n",
       "          intercept_scaling=1, penalty='l2', random_state=None, tol=0.0001)"
      ]
     },
     "execution_count": 44,
     "metadata": {},
     "output_type": "execute_result"
    }
   ],
   "source": [
    "from sklearn.linear_model import LogisticRegression\n",
    "\n",
    "logreg = LogisticRegression(C=1)\n",
    "logreg.fit(compound_train, activity_train)"
   ]
  },
  {
   "cell_type": "code",
   "execution_count": 45,
   "metadata": {
    "collapsed": false
   },
   "outputs": [],
   "source": [
    "activity_predicted = logreg.predict(compound_test)"
   ]
  },
  {
   "cell_type": "code",
   "execution_count": 46,
   "metadata": {
    "collapsed": false
   },
   "outputs": [
    {
     "data": {
      "text/plain": [
       "0.9765350877192982"
      ]
     },
     "execution_count": 46,
     "metadata": {},
     "output_type": "execute_result"
    }
   ],
   "source": [
    "from sklearn.metrics import accuracy_score\n",
    "accuracy_score(activity_test, activity_predicted)"
   ]
  },
  {
   "cell_type": "markdown",
   "metadata": {},
   "source": [
    "###Feature Importance from Logistic Regression###"
   ]
  },
  {
   "cell_type": "code",
   "execution_count": 47,
   "metadata": {
    "collapsed": false
   },
   "outputs": [
    {
     "data": {
      "text/plain": [
       "Index(['SubFPC1', 'SubFPC2', 'SubFPC3', 'SubFPC4', 'SubFPC5', 'SubFPC6', 'SubFPC7', 'SubFPC8', 'SubFPC9', 'SubFPC10', 'SubFPC11', 'SubFPC12', 'SubFPC13', 'SubFPC14', 'SubFPC15', 'SubFPC16', 'SubFPC17', 'SubFPC18', 'SubFPC19', 'SubFPC20', 'SubFPC21', 'SubFPC22', 'SubFPC23', 'SubFPC24', 'SubFPC25', 'SubFPC26', 'SubFPC27', 'SubFPC28', 'SubFPC29', 'SubFPC30', 'SubFPC31', 'SubFPC32', 'SubFPC33', 'SubFPC34', 'SubFPC35', 'SubFPC36', 'SubFPC37', 'SubFPC38', 'SubFPC39', 'SubFPC40', 'SubFPC41', 'SubFPC42', 'SubFPC43', 'SubFPC44', 'SubFPC45', 'SubFPC46', 'SubFPC47', 'SubFPC48', 'SubFPC49', 'SubFPC50', 'SubFPC51', 'SubFPC52', 'SubFPC53', 'SubFPC54', 'SubFPC55', 'SubFPC56', 'SubFPC57', 'SubFPC58', 'SubFPC59', 'SubFPC60', 'SubFPC61', 'SubFPC62', 'SubFPC63', 'SubFPC64', 'SubFPC65', 'SubFPC66', 'SubFPC67', 'SubFPC68', 'SubFPC69', 'SubFPC70', 'SubFPC71', 'SubFPC72', 'SubFPC73', 'SubFPC74', 'SubFPC75', 'SubFPC76', 'SubFPC77', 'SubFPC78', 'SubFPC79', 'SubFPC80', 'SubFPC81', 'SubFPC82', 'SubFPC83', 'SubFPC84', 'SubFPC85', 'SubFPC86', 'SubFPC87', 'SubFPC88', 'SubFPC89', 'SubFPC90', 'SubFPC91', 'SubFPC92', 'SubFPC93', 'SubFPC94', 'SubFPC95', 'SubFPC96', 'SubFPC97', 'SubFPC98', 'SubFPC99', 'SubFPC100', ...], dtype='object')"
      ]
     },
     "execution_count": 47,
     "metadata": {},
     "output_type": "execute_result"
    }
   ],
   "source": [
    "compound_descriptors = compound.columns\n",
    "compound_descriptors"
   ]
  },
  {
   "cell_type": "code",
   "execution_count": 48,
   "metadata": {
    "collapsed": false
   },
   "outputs": [
    {
     "data": {
      "text/plain": [
       "array([[  8.01093500e-01,   1.35822836e-01,  -6.98952430e-02,\n",
       "         -4.82642854e-01,  -1.72416728e+00,  -3.73300332e-01,\n",
       "          0.00000000e+00,   3.64199065e-01,  -1.06611181e-01,\n",
       "          3.46809995e-02,   1.50630652e-02,   1.09390589e+00,\n",
       "         -1.75323876e-01,   2.53032187e-01,   1.01619758e+00,\n",
       "          2.02943764e+00,   2.81571145e+00,   1.46681479e+00,\n",
       "          1.20457430e+00,   2.45309490e+00,   2.09710585e+00,\n",
       "          0.00000000e+00,   1.85716915e-01,  -7.02275390e-01,\n",
       "          0.00000000e+00,  -2.59493086e-01,   3.14698619e-01,\n",
       "         -1.77390221e+00,   0.00000000e+00,   0.00000000e+00,\n",
       "          0.00000000e+00,   1.80832494e+00,   1.42461499e-01,\n",
       "          0.00000000e+00,  -1.26020906e+00,  -2.96083782e+00,\n",
       "          1.99965061e+00,   2.37983977e+00,  -1.52899569e+00,\n",
       "         -3.40705664e-01,   1.37304375e-01,   1.95128624e-03,\n",
       "          0.00000000e+00,   0.00000000e+00,   0.00000000e+00,\n",
       "          0.00000000e+00,   0.00000000e+00,   6.03503900e-01,\n",
       "         -1.79890858e+00,   0.00000000e+00,   3.20718865e-06,\n",
       "          1.14156006e+00,   8.49621558e-01,  -3.13135214e-01,\n",
       "         -5.59434979e-01,   3.23087860e-01,   1.95128624e-03,\n",
       "          0.00000000e+00,   2.44770470e-01,  -9.80936173e-01,\n",
       "          0.00000000e+00,   1.07121368e+00,   4.19393537e-01,\n",
       "          0.00000000e+00,   3.38875896e-01,   3.38875896e-01,\n",
       "          0.00000000e+00,   4.03627008e-02,   1.01132564e-02,\n",
       "          0.00000000e+00,   0.00000000e+00,  -5.57603681e-01,\n",
       "          0.00000000e+00,   4.69453944e-02,   3.86955664e-01,\n",
       "          5.27447651e-01,   0.00000000e+00,   2.06805386e+00,\n",
       "          0.00000000e+00,   0.00000000e+00,   0.00000000e+00,\n",
       "          0.00000000e+00,   0.00000000e+00,   6.81328772e-01,\n",
       "          2.91947071e+00,  -7.93446548e-01,   0.00000000e+00,\n",
       "         -3.31491399e-01,   0.00000000e+00,  -6.50576110e-01,\n",
       "          0.00000000e+00,   0.00000000e+00,   0.00000000e+00,\n",
       "          0.00000000e+00,   0.00000000e+00,  -1.23687190e+00,\n",
       "          0.00000000e+00,   0.00000000e+00,   1.63447370e+00,\n",
       "          1.06299446e+00,   8.41905858e-01,   0.00000000e+00,\n",
       "          3.07244949e-01,   1.28756663e-03,   5.77031696e-01,\n",
       "          0.00000000e+00,   0.00000000e+00,   0.00000000e+00,\n",
       "          1.75971456e+00,   0.00000000e+00,   0.00000000e+00,\n",
       "          0.00000000e+00,   0.00000000e+00,   0.00000000e+00,\n",
       "          0.00000000e+00,   0.00000000e+00,   0.00000000e+00,\n",
       "          0.00000000e+00,   0.00000000e+00,   2.99262023e-01,\n",
       "          0.00000000e+00,   0.00000000e+00,   0.00000000e+00,\n",
       "          0.00000000e+00,   1.18985312e-01,   3.34666501e-03,\n",
       "         -1.85071423e-01,   1.45296500e+00,   1.10067229e-02,\n",
       "          0.00000000e+00,   0.00000000e+00,   8.78229253e-02,\n",
       "          2.84664605e+00,   0.00000000e+00,   3.81956515e-01,\n",
       "          1.44256595e+00,   1.66698461e-01,   0.00000000e+00,\n",
       "          9.75736943e-01,   1.13564227e-02,   0.00000000e+00,\n",
       "          0.00000000e+00,   1.90745913e+00,   0.00000000e+00,\n",
       "          0.00000000e+00,   0.00000000e+00,  -4.19993286e-01,\n",
       "          0.00000000e+00,   2.88192072e-02,   8.30019296e-01,\n",
       "          5.16648119e-01,   0.00000000e+00,  -1.63071738e+00,\n",
       "          0.00000000e+00,   1.26773171e+00,   0.00000000e+00,\n",
       "          3.57939551e-02,   0.00000000e+00,   1.63192805e+00,\n",
       "          6.65187524e-06,   6.00230072e-02,   5.05530046e-02,\n",
       "          0.00000000e+00,   0.00000000e+00,   1.01256157e-01,\n",
       "          8.19678617e-04,   0.00000000e+00,   0.00000000e+00,\n",
       "          2.02509805e+00,   8.87901694e-02,   1.34462102e+00,\n",
       "          5.70825036e-01,   2.52990990e-01,  -1.20031221e+00,\n",
       "          1.33598482e+00,   0.00000000e+00,   0.00000000e+00,\n",
       "          0.00000000e+00,   3.01603336e-01,   1.55424888e-01,\n",
       "         -9.80653473e-02,   7.07172105e-01,  -2.33437205e-01,\n",
       "          8.32697777e-01,   0.00000000e+00,   0.00000000e+00,\n",
       "          0.00000000e+00,   5.05643174e-01,   0.00000000e+00,\n",
       "         -2.02577134e+00,   0.00000000e+00,   0.00000000e+00,\n",
       "          0.00000000e+00,   0.00000000e+00,   0.00000000e+00,\n",
       "          9.37778261e-03,   1.78070542e+00,   1.93477163e+00,\n",
       "          0.00000000e+00,   7.94268232e-01,   2.49777310e-01,\n",
       "          0.00000000e+00,   0.00000000e+00,   0.00000000e+00,\n",
       "          0.00000000e+00,   0.00000000e+00,   0.00000000e+00,\n",
       "          0.00000000e+00,  -1.50437445e+00,   0.00000000e+00,\n",
       "          0.00000000e+00,   1.64810773e-01,   0.00000000e+00,\n",
       "          9.50491075e-02,   0.00000000e+00,   0.00000000e+00,\n",
       "          0.00000000e+00,   0.00000000e+00,   0.00000000e+00,\n",
       "          0.00000000e+00,   0.00000000e+00,   0.00000000e+00,\n",
       "          0.00000000e+00,  -9.69049253e-01,   0.00000000e+00,\n",
       "         -5.58147946e-01,   0.00000000e+00,   0.00000000e+00,\n",
       "          0.00000000e+00,   0.00000000e+00,  -5.41958987e-01,\n",
       "          0.00000000e+00,   0.00000000e+00,   0.00000000e+00,\n",
       "         -5.41958987e-01,   0.00000000e+00,   0.00000000e+00,\n",
       "          0.00000000e+00,   0.00000000e+00,   0.00000000e+00,\n",
       "          0.00000000e+00,   0.00000000e+00,   0.00000000e+00,\n",
       "          0.00000000e+00,   0.00000000e+00,   0.00000000e+00,\n",
       "          0.00000000e+00,  -4.13275280e-01,   0.00000000e+00,\n",
       "         -4.13275280e-01,   0.00000000e+00,   0.00000000e+00,\n",
       "          0.00000000e+00,   0.00000000e+00,   0.00000000e+00,\n",
       "          0.00000000e+00,   0.00000000e+00,   0.00000000e+00,\n",
       "          0.00000000e+00,   0.00000000e+00,   0.00000000e+00,\n",
       "          0.00000000e+00,   0.00000000e+00,   0.00000000e+00,\n",
       "          0.00000000e+00,   0.00000000e+00,   0.00000000e+00,\n",
       "          0.00000000e+00,   0.00000000e+00,   0.00000000e+00,\n",
       "          0.00000000e+00,   0.00000000e+00,   0.00000000e+00,\n",
       "         -4.87852813e-01,  -1.30437902e-01,  -1.40171141e+00,\n",
       "          0.00000000e+00,   0.00000000e+00,   2.30531739e-01,\n",
       "          2.30531739e-01,   5.37439194e-02,   5.57330223e-01,\n",
       "          1.75711962e-02,   1.99220344e-03,   5.57330223e-01,\n",
       "          5.57330223e-01,   8.09317373e-03,  -8.83031817e-01,\n",
       "          0.00000000e+00,   0.00000000e+00,   8.23069968e-02,\n",
       "          0.00000000e+00,   0.00000000e+00,  -3.36541745e-01,\n",
       "         -3.62586689e-03,   3.83556158e-01,  -9.04844042e-02,\n",
       "          4.74040562e-01,  -9.04844042e-02,  -8.56091510e-02,\n",
       "         -8.56091510e-02,  -2.84815006e-01,  -2.53663849e-01,\n",
       "          0.00000000e+00,   0.00000000e+00,   0.00000000e+00,\n",
       "          4.19146766e-01]])"
      ]
     },
     "execution_count": 48,
     "metadata": {},
     "output_type": "execute_result"
    }
   ],
   "source": [
    "logreg.coef_"
   ]
  },
  {
   "cell_type": "code",
   "execution_count": 49,
   "metadata": {
    "collapsed": false
   },
   "outputs": [
    {
     "data": {
      "image/png": "[encoded data removed]",
      "text/plain": [
       "<matplotlib.figure.Figure at 0x10142cf8>"
      ]
     },
     "metadata": {},
     "output_type": "display_data"
    }
   ],
   "source": [
    "x = np.arange(len(compound_descriptors))\n",
    "plt.bar(x, logreg.coef_.ravel())\n",
    "plt.xticks(x + 0.5, compound_descriptors, rotation = 30);"
   ]
  },
  {
   "cell_type": "code",
   "execution_count": 50,
   "metadata": {
    "collapsed": false
   },
   "outputs": [
    {
     "name": "stdout",
     "output_type": "stream",
     "text": [
      "[[  23   93]\n",
      " [  14 4430]]\n"
     ]
    }
   ],
   "source": [
    "from sklearn.metrics import confusion_matrix\n",
    "\n",
    "cm= confusion_matrix(activity_test, activity_predicted)\n",
    "print(cm)"
   ]
  },
  {
   "cell_type": "code",
   "execution_count": 51,
   "metadata": {
    "collapsed": false
   },
   "outputs": [
    {
     "data": {
      "image/png": "[encoded data removed]",
      "text/plain": [
       "<matplotlib.figure.Figure at 0x10e9c940>"
      ]
     },
     "metadata": {},
     "output_type": "display_data"
    }
   ],
   "source": [
    "def plot_confusion(cm, activity_names = ['Active', 'Inactive'],\n",
    "                  title = 'Confusion matrix'):\n",
    "    plt.imshow(cm, interpolation = 'nearest', cmap = plt.cm.Blues)\n",
    "    plt.title(title)\n",
    "    plt.colorbar()\n",
    "    tick_marks = np.arange(len(activity_names))\n",
    "    plt.xticks(tick_marks, activity_names, rotation = 60)\n",
    "    plt.yticks(tick_marks, activity_names)\n",
    "    plt.ylabel('True label')\n",
    "    plt.xlabel('Predicted label')\n",
    "    plt.tight_layout()\n",
    "\n",
    "plot_confusion(cm)"
   ]
  },
  {
   "cell_type": "code",
   "execution_count": 52,
   "metadata": {
    "collapsed": false
   },
   "outputs": [
    {
     "name": "stdout",
     "output_type": "stream",
     "text": [
      "[[  23   93]\n",
      " [  14 4430]]\n"
     ]
    }
   ],
   "source": [
    "print(cm)"
   ]
  },
  {
   "cell_type": "code",
   "execution_count": 53,
   "metadata": {
    "collapsed": false
   },
   "outputs": [
    {
     "data": {
      "text/plain": [
       "array([ 116, 4444])"
      ]
     },
     "execution_count": 53,
     "metadata": {},
     "output_type": "execute_result"
    }
   ],
   "source": [
    "cm.sum(axis =1)"
   ]
  },
  {
   "cell_type": "code",
   "execution_count": 54,
   "metadata": {
    "collapsed": false
   },
   "outputs": [
    {
     "name": "stdout",
     "output_type": "stream",
     "text": [
      "[[ 0.19827586  0.80172414]\n",
      " [ 0.00315032  0.99684968]]\n"
     ]
    }
   ],
   "source": [
    "cm_normalized = cm.astype(np.float64) / cm.sum(axis = 1)[:, np.newaxis]\n",
    "print(cm_normalized)"
   ]
  },
  {
   "cell_type": "code",
   "execution_count": 55,
   "metadata": {
    "collapsed": false
   },
   "outputs": [
    {
     "data": {
      "image/png": "[encoded data removed]",
      "text/plain": [
       "<matplotlib.figure.Figure at 0x11a85048>"
      ]
     },
     "metadata": {},
     "output_type": "display_data"
    }
   ],
   "source": [
    "plot_confusion(cm_normalized, title = \"Normalized confusion matrix\")"
   ]
  },
  {
   "cell_type": "code",
   "execution_count": 56,
   "metadata": {
    "collapsed": false
   },
   "outputs": [
    {
     "name": "stdout",
     "output_type": "stream",
     "text": [
      "             precision    recall  f1-score   support\n",
      "\n",
      "   Inactive       0.62      0.20      0.30       116\n",
      "     Active       0.98      1.00      0.99      4444\n",
      "\n",
      "avg / total       0.97      0.98      0.97      4560\n",
      "\n"
     ]
    }
   ],
   "source": [
    "from sklearn.metrics import classification_report\n",
    "\n",
    "print(classification_report(activity_test, activity_predicted,\n",
    "                           target_names = ['Inactive', 'Active']))"
   ]
  },
  {
   "cell_type": "code",
   "execution_count": 57,
   "metadata": {
    "collapsed": false
   },
   "outputs": [
    {
     "data": {
      "text/plain": [
       "array([[ 0.00113849,  0.99886151],\n",
       "       [ 0.02121255,  0.97878745],\n",
       "       [ 0.03190176,  0.96809824],\n",
       "       [ 0.00221402,  0.99778598],\n",
       "       [ 0.00181644,  0.99818356]])"
      ]
     },
     "execution_count": 57,
     "metadata": {},
     "output_type": "execute_result"
    }
   ],
   "source": [
    "activity_predicted_proba = logreg.predict_proba(compound_test)\n",
    "activity_predicted_proba[:5]"
   ]
  },
  {
   "cell_type": "code",
   "execution_count": 60,
   "metadata": {
    "collapsed": true
   },
   "outputs": [],
   "source": [
    "from sklearn.metrics import roc_curve\n",
    "from sklearn.metrics import auc\n",
    "\n",
    "\n",
    "def plot_roc_curve(activity_test, activity_predicted_proba):\n",
    "    fpr, tpr, thresholds = roc_curve(activity_test, \n",
    "                                     activity_predicted_proba[:, 1],\n",
    "                                     pos_label = 'Active')\n",
    "    \n",
    "    roc_auc = auc(fpr, tpr)\n",
    "    #Plot ROC curve\n",
    "    plt.plot(fpr, tpr, label = 'ROC curve (area = %0.3f)' %roc_auc)\n",
    "    plt.plot([0, 1], [0, 1], 'k--') \n",
    "    plt.xlim([0.0, 1.0])\n",
    "    plt.ylim([0.0, 1.0])\n",
    "    plt.xlabel('False Positive Rate or (1 - Specificity)')\n",
    "    plt.ylabel('True Positive Rate or (Sensitivity)')\n",
    "    plt.title('Receiver Operation Characteristic for Histone Acetylase')\n",
    "    plt.legend(loc = 'lower right')"
   ]
  },
  {
   "cell_type": "code",
   "execution_count": 62,
   "metadata": {
    "collapsed": false
   },
   "outputs": [],
   "source": [
    "fpr, tpr, thresholds = roc_curve(activity_test, activity_predicted_proba[:, 1],\n",
    "                                pos_label = 'Active')"
   ]
  },
  {
   "cell_type": "markdown",
   "metadata": {},
   "source": [
    "###ROC Curve for compound alone###"
   ]
  },
  {
   "cell_type": "code",
   "execution_count": 65,
   "metadata": {
    "collapsed": false
   },
   "outputs": [
    {
     "data": {
      "image/png": "[encoded data removed]",
      "text/plain": [
       "<matplotlib.figure.Figure at 0x1404e240>"
      ]
     },
     "metadata": {},
     "output_type": "display_data"
    }
   ],
   "source": [
    "plot_roc_curve(activity_test, activity_predicted_proba)"
   ]
  },
  {
   "cell_type": "markdown",
   "metadata": {},
   "source": [
    "###Principal Component Analysis for Protein###"
   ]
  },
  {
   "cell_type": "code",
   "execution_count": 64,
   "metadata": {
    "collapsed": true
   },
   "outputs": [],
   "source": [
    "protein = data.iloc[:, 311:937]"
   ]
  },
  {
   "cell_type": "code",
   "execution_count": 67,
   "metadata": {
    "collapsed": false
   },
   "outputs": [
    {
     "name": "stdout",
     "output_type": "stream",
     "text": [
      "[ 671.9186243   148.05358522]\n",
      "[[ -5.37984500e-02   3.05210694e-02  -1.38777878e-17 ...,   2.29204059e-02\n",
      "    5.92913660e-04   9.84543516e-03]\n",
      " [ -1.57921818e-02   5.45986027e-03   2.22044605e-16 ...,  -9.06756612e-03\n",
      "   -3.03772321e-03  -3.06035965e-04]]\n"
     ]
    }
   ],
   "source": [
    "from sklearn.decomposition import PCA\n",
    "pca = PCA(n_components = 2)\n",
    "pca.fit(protein)\n",
    "print(pca.explained_variance_)\n",
    "print(pca.components_)"
   ]
  },
  {
   "cell_type": "markdown",
   "metadata": {},
   "source": [
    "###Explained Variance Plot for Protein###"
   ]
  },
  {
   "cell_type": "code",
   "execution_count": 70,
   "metadata": {
    "collapsed": false
   },
   "outputs": [
    {
     "data": {
      "image/png": "[encoded data removed]",
      "text/plain": [
       "<matplotlib.figure.Figure at 0x73a2e48>"
      ]
     },
     "metadata": {},
     "output_type": "display_data"
    }
   ],
   "source": [
    "plt.title(\"Explained Variance\")\n",
    "plt.ylabel(\"Percentage of explained variance\")\n",
    "plt.xlabel(\"PCA Components\")\n",
    "plt.plot(pca.explained_variance_ratio_);"
   ]
  },
  {
   "cell_type": "markdown",
   "metadata": {},
   "source": [
    "###Cumulated Explained Variance plot for Protein"
   ]
  },
  {
   "cell_type": "code",
   "execution_count": 73,
   "metadata": {
    "collapsed": false
   },
   "outputs": [
    {
     "data": {
      "image/png": "[encoded data removed]",
      "text/plain": [
       "<matplotlib.figure.Figure at 0x11a78128>"
      ]
     },
     "metadata": {},
     "output_type": "display_data"
    }
   ],
   "source": [
    "plt.title(\"Cumulated Explained VAriance\")\n",
    "plt.ylabel(\"Percentage of explained variance\")\n",
    "plt.xlabel(\"PCA Components\")\n",
    "plt.plot(np.cumsum(pca.explained_variance_ratio_));"
   ]
  },
  {
   "cell_type": "markdown",
   "metadata": {},
   "source": [
    "###Data Partition###"
   ]
  },
  {
   "cell_type": "code",
   "execution_count": 75,
   "metadata": {
    "collapsed": false
   },
   "outputs": [
    {
     "name": "stdout",
     "output_type": "stream",
     "text": [
      "train data shape: (18240, 626), trian target shape: (18240,)\n",
      "test data shape: (4560, 626), test target shape: (4560,)\n"
     ]
    }
   ],
   "source": [
    "from sklearn.cross_validation import train_test_split\n",
    "protein_train, protein_test, activity_train, activity_test = train_test_split(\n",
    "    protein, activity, test_size = 0.20, random_state = 0)\n",
    "print(\"train data shape: %r, trian target shape: %r\"\n",
    "     % (protein_train.shape, activity_train.shape))\n",
    "print(\"test data shape: %r, test target shape: %r\"\n",
    "     % (protein_test.shape, activity_test.shape))"
   ]
  },
  {
   "cell_type": "markdown",
   "metadata": {},
   "source": [
    "###Classification with Logistic Regression###"
   ]
  },
  {
   "cell_type": "code",
   "execution_count": 77,
   "metadata": {
    "collapsed": false
   },
   "outputs": [
    {
     "data": {
      "text/plain": [
       "LogisticRegression(C=1, class_weight=None, dual=False, fit_intercept=True,\n",
       "          intercept_scaling=1, penalty='l2', random_state=None, tol=0.0001)"
      ]
     },
     "execution_count": 77,
     "metadata": {},
     "output_type": "execute_result"
    }
   ],
   "source": [
    "from sklearn.linear_model import LogisticRegression\n",
    "\n",
    "logreg = LogisticRegression (C = 1)\n",
    "logreg.fit(protein_train, activity_train)"
   ]
  },
  {
   "cell_type": "code",
   "execution_count": 80,
   "metadata": {
    "collapsed": true
   },
   "outputs": [],
   "source": [
    "activity_predicted = logreg.predict(protein_test)"
   ]
  },
  {
   "cell_type": "code",
   "execution_count": 81,
   "metadata": {
    "collapsed": false
   },
   "outputs": [
    {
     "data": {
      "text/plain": [
       "0.97456140350877196"
      ]
     },
     "execution_count": 81,
     "metadata": {},
     "output_type": "execute_result"
    }
   ],
   "source": [
    "from sklearn.metrics import accuracy_score\n",
    "accuracy_score(activity_test, activity_predicted)"
   ]
  },
  {
   "cell_type": "markdown",
   "metadata": {},
   "source": [
    "###Feature Importance from Logistic Regression###"
   ]
  },
  {
   "cell_type": "code",
   "execution_count": 82,
   "metadata": {
    "collapsed": false
   },
   "outputs": [
    {
     "data": {
      "text/plain": [
       "Index(['m1z1p2', 'm1z1p3', 'm1z1p4', 'm1z1p5', 'm1z1p6', 'm1z1p7', 'm1z1p8', 'm1z1p9', 'm1z1p10', 'm1z1p11', 'm1z1p12', 'm1z1p13', 'm1z1p14', 'm1z1p15', 'm1z1p16', 'm1z1p17', 'm1z1p18', 'm1z1p19', 'm1z1p20', 'm1z1p21', 'm1z1p22', 'm1z1p23', 'm1z1p24', 'm1z1p25', 'm1z1p26', 'm1z1p27', 'm1z1p28', 'm1z1p29', 'm1z2p1', 'm1z2p2', 'm1z2p3', 'm1z2p4', 'm1z2p5', 'm1z2p6', 'm1z2p7', 'm1z2p8', 'm1z2p9', 'm1z2p10', 'm1z2p11', 'm1z2p12', 'm1z2p13', 'm1z2p14', 'm1z2p15', 'm1z2p16', 'm1z2p17', 'm1z2p18', 'm1z2p19', 'm1z2p20', 'm1z2p21', 'm1z2p22', 'm1z2p23', 'm1z2p24', 'm1z2p25', 'm1z2p26', 'm1z2p27', 'm1z2p28', 'm1z2p29', 'm1z3p1', 'm1z3p2', 'm1z3p3', 'm1z3p4', 'm1z3p5', 'm1z3p6', 'm1z3p7', 'm1z3p8', 'm1z3p9', 'm1z3p10', 'm1z3p11', 'm1z3p12', 'm1z3p13', 'm1z3p14', 'm1z3p15', 'm1z3p16', 'm1z3p17', 'm1z3p18', 'm1z3p19', 'm1z3p20', 'm1z3p21', 'm1z3p22', 'm1z3p23', 'm1z3p24', 'm1z3p25', 'm1z3p26', 'm1z3p27', 'm1z3p28', 'm1z3p29', 'm2z1p1', 'm2z1p2', 'm2z1p3', 'm2z1p4', 'm2z1p5', 'm2z1p6', 'm2z1p7', 'm2z1p8', 'm2z1p9', 'm2z1p10', 'm2z1p11', 'm2z1p12', 'm2z1p13', 'm2z1p14', ...], dtype='object')"
      ]
     },
     "execution_count": 82,
     "metadata": {},
     "output_type": "execute_result"
    }
   ],
   "source": [
    "protein_descriptors = protein.columns\n",
    "protein_descriptors"
   ]
  },
  {
   "cell_type": "code",
   "execution_count": 84,
   "metadata": {
    "collapsed": false
   },
   "outputs": [
    {
     "data": {
      "image/png": "[encoded data removed]",
      "text/plain": [
       "<matplotlib.figure.Figure at 0x1011ed30>"
      ]
     },
     "metadata": {},
     "output_type": "display_data"
    }
   ],
   "source": [
    "x = np.arange(len(protein_descriptors))\n",
    "plt.bar(x, logreg.coef_.ravel())\n",
    "plt.xticks(x + 20, protein_descriptors, rotation = 30);"
   ]
  },
  {
   "cell_type": "code",
   "execution_count": 85,
   "metadata": {
    "collapsed": false
   },
   "outputs": [
    {
     "name": "stdout",
     "output_type": "stream",
     "text": [
      "[[   0  116]\n",
      " [   0 4444]]\n"
     ]
    }
   ],
   "source": [
    "from sklearn.metrics import confusion_matrix\n",
    "cm = confusion_matrix(activity_test, activity_predicted)\n",
    "print(cm)"
   ]
  },
  {
   "cell_type": "code",
   "execution_count": 86,
   "metadata": {
    "collapsed": false
   },
   "outputs": [
    {
     "data": {
      "image/png": "[encoded data removed]",
      "text/plain": [
       "<matplotlib.figure.Figure at 0xd6bd8d0>"
      ]
     },
     "metadata": {},
     "output_type": "display_data"
    }
   ],
   "source": [
    "plot_confusion(cm)"
   ]
  },
  {
   "cell_type": "code",
   "execution_count": 87,
   "metadata": {
    "collapsed": false
   },
   "outputs": [
    {
     "name": "stdout",
     "output_type": "stream",
     "text": [
      "[[ 0.  1.]\n",
      " [ 0.  1.]]\n"
     ]
    }
   ],
   "source": [
    "cm_normalized = cm.astype(np.float64) / cm.sum(axis = 1)[:, np.newaxis]\n",
    "print(cm_normalized)"
   ]
  },
  {
   "cell_type": "code",
   "execution_count": 88,
   "metadata": {
    "collapsed": false
   },
   "outputs": [
    {
     "data": {
      "image/png": "[encoded data removed]",
      "text/plain": [
       "<matplotlib.figure.Figure at 0x16091278>"
      ]
     },
     "metadata": {},
     "output_type": "display_data"
    }
   ],
   "source": [
    "plot_confusion(cm_normalized, title = \"Normalized confusion matrix\")"
   ]
  },
  {
   "cell_type": "code",
   "execution_count": 90,
   "metadata": {
    "collapsed": false
   },
   "outputs": [
    {
     "name": "stdout",
     "output_type": "stream",
     "text": [
      "             precision    recall  f1-score   support\n",
      "\n",
      "     Active       0.00      0.00      0.00       116\n",
      "   Inactive       0.97      1.00      0.99      4444\n",
      "\n",
      "avg / total       0.95      0.97      0.96      4560\n",
      "\n"
     ]
    }
   ],
   "source": [
    "from sklearn.metrics import classification_report \n",
    "\n",
    "print(classification_report(activity_test, activity_predicted,\n",
    "                           target_names = ['Active', 'Inactive']))"
   ]
  },
  {
   "cell_type": "code",
   "execution_count": 92,
   "metadata": {
    "collapsed": false
   },
   "outputs": [
    {
     "data": {
      "text/plain": [
       "array([[ 0.02521799,  0.97478201],\n",
       "       [ 0.02535162,  0.97464838],\n",
       "       [ 0.02521799,  0.97478201],\n",
       "       [ 0.02222358,  0.97777642],\n",
       "       [ 0.02524507,  0.97475493]])"
      ]
     },
     "execution_count": 92,
     "metadata": {},
     "output_type": "execute_result"
    }
   ],
   "source": [
    "activity_predicted_proba = logreg.predict_proba(protein_test)\n",
    "activity_predicted_proba[:5]"
   ]
  },
  {
   "cell_type": "code",
   "execution_count": 93,
   "metadata": {
    "collapsed": false
   },
   "outputs": [
    {
     "data": {
      "image/png": "[encoded data removed]",
      "text/plain": [
       "<matplotlib.figure.Figure at 0x129f1f28>"
      ]
     },
     "metadata": {},
     "output_type": "display_data"
    }
   ],
   "source": [
    "from sklearn.metrics import roc_curve\n",
    "from sklearn.metrics import auc\n",
    "plot_roc_curve(activity_test, activity_predicted_proba)"
   ]
  },
  {
   "cell_type": "code",
   "execution_count": 99,
   "metadata": {
    "collapsed": false
   },
   "outputs": [],
   "source": [
    "def cross_terms_ligand_protein(ligand, header_ligand, protein, header_protein):\n",
    "    import numpy as np\n",
    "    R, Cl = np.shape(ligand)\n",
    "    R, Cp = np.shape(protein)\n",
    "    Cross_lp = np.zeros((R, 1))\n",
    "    H_lp = []\n",
    "    for j in range(Cl):\n",
    "        for jj in range(Cp):\n",
    "            H_lp.append(header_ligand[j]+'*'+header_protein[jj])\n",
    "            cross = np.multiply(ligand[:,j], protein[:, jj])\n",
    "            Cross_lp = np.append(Cross_lp, np.reshape(cross, (ligand.shape[0],1)),\n",
    "                                axis = 1)\n",
    "            return np.delete(Cross_lp, 0, axis = 1), H_lp\n",
    "        "
   ]
  },
  {
   "cell_type": "code",
   "execution_count": 100,
   "metadata": {
    "collapsed": false
   },
   "outputs": [
    {
     "ename": "TypeError",
     "evalue": "unhashable type: 'slice'",
     "output_type": "error",
     "traceback": [
      "\u001b[1;31m---------------------------------------------------------------------------\u001b[0m",
      "\u001b[1;31mTypeError\u001b[0m                                 Traceback (most recent call last)",
      "\u001b[1;32m<ipython-input-100-f557f3320197>\u001b[0m in \u001b[0;36m<module>\u001b[1;34m()\u001b[0m\n\u001b[0;32m      2\u001b[0m                                         \u001b[0mheader_ligand\u001b[0m \u001b[1;33m=\u001b[0m \u001b[0mcompound_descriptors\u001b[0m\u001b[1;33m,\u001b[0m\u001b[1;33m\u001b[0m\u001b[0m\n\u001b[0;32m      3\u001b[0m                                         \u001b[0mprotein\u001b[0m \u001b[1;33m=\u001b[0m \u001b[0mprotein\u001b[0m\u001b[1;33m,\u001b[0m\u001b[1;33m\u001b[0m\u001b[0m\n\u001b[1;32m----> 4\u001b[1;33m                                         header_protein = protein_descriptors)\n\u001b[0m",
      "\u001b[1;32m<ipython-input-99-80e544229008>\u001b[0m in \u001b[0;36mcross_terms_ligand_protein\u001b[1;34m(ligand, header_ligand, protein, header_protein)\u001b[0m\n\u001b[0;32m      8\u001b[0m         \u001b[1;32mfor\u001b[0m \u001b[0mjj\u001b[0m \u001b[1;32min\u001b[0m \u001b[0mrange\u001b[0m\u001b[1;33m(\u001b[0m\u001b[0mCp\u001b[0m\u001b[1;33m)\u001b[0m\u001b[1;33m:\u001b[0m\u001b[1;33m\u001b[0m\u001b[0m\n\u001b[0;32m      9\u001b[0m             \u001b[0mH_lp\u001b[0m\u001b[1;33m.\u001b[0m\u001b[0mappend\u001b[0m\u001b[1;33m(\u001b[0m\u001b[0mheader_ligand\u001b[0m\u001b[1;33m[\u001b[0m\u001b[0mj\u001b[0m\u001b[1;33m]\u001b[0m\u001b[1;33m+\u001b[0m\u001b[1;34m'*'\u001b[0m\u001b[1;33m+\u001b[0m\u001b[0mheader_protein\u001b[0m\u001b[1;33m[\u001b[0m\u001b[0mjj\u001b[0m\u001b[1;33m]\u001b[0m\u001b[1;33m)\u001b[0m\u001b[1;33m\u001b[0m\u001b[0m\n\u001b[1;32m---> 10\u001b[1;33m             \u001b[0mcross\u001b[0m \u001b[1;33m=\u001b[0m \u001b[0mnp\u001b[0m\u001b[1;33m.\u001b[0m\u001b[0mmultiply\u001b[0m\u001b[1;33m(\u001b[0m\u001b[0mligand\u001b[0m\u001b[1;33m[\u001b[0m\u001b[1;33m:\u001b[0m\u001b[1;33m,\u001b[0m\u001b[0mj\u001b[0m\u001b[1;33m]\u001b[0m\u001b[1;33m,\u001b[0m \u001b[0mprotein\u001b[0m\u001b[1;33m[\u001b[0m\u001b[1;33m:\u001b[0m\u001b[1;33m,\u001b[0m \u001b[0mjj\u001b[0m\u001b[1;33m]\u001b[0m\u001b[1;33m)\u001b[0m\u001b[1;33m\u001b[0m\u001b[0m\n\u001b[0m\u001b[0;32m     11\u001b[0m             Cross_lp = np.append(Cross_lp, np.reshape(cross, (ligand.shape[0],1)),\n\u001b[0;32m     12\u001b[0m                                 axis = 1)\n",
      "\u001b[1;32mC:\\Users\\Saw\\Anaconda\\envs\\py33\\lib\\site-packages\\pandas\\core\\frame.py\u001b[0m in \u001b[0;36m__getitem__\u001b[1;34m(self, key)\u001b[0m\n\u001b[0;32m   1778\u001b[0m             \u001b[1;32mreturn\u001b[0m \u001b[0mself\u001b[0m\u001b[1;33m.\u001b[0m\u001b[0m_getitem_multilevel\u001b[0m\u001b[1;33m(\u001b[0m\u001b[0mkey\u001b[0m\u001b[1;33m)\u001b[0m\u001b[1;33m\u001b[0m\u001b[0m\n\u001b[0;32m   1779\u001b[0m         \u001b[1;32melse\u001b[0m\u001b[1;33m:\u001b[0m\u001b[1;33m\u001b[0m\u001b[0m\n\u001b[1;32m-> 1780\u001b[1;33m             \u001b[1;32mreturn\u001b[0m \u001b[0mself\u001b[0m\u001b[1;33m.\u001b[0m\u001b[0m_getitem_column\u001b[0m\u001b[1;33m(\u001b[0m\u001b[0mkey\u001b[0m\u001b[1;33m)\u001b[0m\u001b[1;33m\u001b[0m\u001b[0m\n\u001b[0m\u001b[0;32m   1781\u001b[0m \u001b[1;33m\u001b[0m\u001b[0m\n\u001b[0;32m   1782\u001b[0m     \u001b[1;32mdef\u001b[0m \u001b[0m_getitem_column\u001b[0m\u001b[1;33m(\u001b[0m\u001b[0mself\u001b[0m\u001b[1;33m,\u001b[0m \u001b[0mkey\u001b[0m\u001b[1;33m)\u001b[0m\u001b[1;33m:\u001b[0m\u001b[1;33m\u001b[0m\u001b[0m\n",
      "\u001b[1;32mC:\\Users\\Saw\\Anaconda\\envs\\py33\\lib\\site-packages\\pandas\\core\\frame.py\u001b[0m in \u001b[0;36m_getitem_column\u001b[1;34m(self, key)\u001b[0m\n\u001b[0;32m   1785\u001b[0m         \u001b[1;31m# get column\u001b[0m\u001b[1;33m\u001b[0m\u001b[1;33m\u001b[0m\u001b[0m\n\u001b[0;32m   1786\u001b[0m         \u001b[1;32mif\u001b[0m \u001b[0mself\u001b[0m\u001b[1;33m.\u001b[0m\u001b[0mcolumns\u001b[0m\u001b[1;33m.\u001b[0m\u001b[0mis_unique\u001b[0m\u001b[1;33m:\u001b[0m\u001b[1;33m\u001b[0m\u001b[0m\n\u001b[1;32m-> 1787\u001b[1;33m             \u001b[1;32mreturn\u001b[0m \u001b[0mself\u001b[0m\u001b[1;33m.\u001b[0m\u001b[0m_get_item_cache\u001b[0m\u001b[1;33m(\u001b[0m\u001b[0mkey\u001b[0m\u001b[1;33m)\u001b[0m\u001b[1;33m\u001b[0m\u001b[0m\n\u001b[0m\u001b[0;32m   1788\u001b[0m \u001b[1;33m\u001b[0m\u001b[0m\n\u001b[0;32m   1789\u001b[0m         \u001b[1;31m# duplicate columns & possible reduce dimensionaility\u001b[0m\u001b[1;33m\u001b[0m\u001b[1;33m\u001b[0m\u001b[0m\n",
      "\u001b[1;32mC:\\Users\\Saw\\Anaconda\\envs\\py33\\lib\\site-packages\\pandas\\core\\generic.py\u001b[0m in \u001b[0;36m_get_item_cache\u001b[1;34m(self, item)\u001b[0m\n\u001b[0;32m   1064\u001b[0m         \u001b[1;34m\"\"\" return the cached item, item represents a label indexer \"\"\"\u001b[0m\u001b[1;33m\u001b[0m\u001b[0m\n\u001b[0;32m   1065\u001b[0m         \u001b[0mcache\u001b[0m \u001b[1;33m=\u001b[0m \u001b[0mself\u001b[0m\u001b[1;33m.\u001b[0m\u001b[0m_item_cache\u001b[0m\u001b[1;33m\u001b[0m\u001b[0m\n\u001b[1;32m-> 1066\u001b[1;33m         \u001b[0mres\u001b[0m \u001b[1;33m=\u001b[0m \u001b[0mcache\u001b[0m\u001b[1;33m.\u001b[0m\u001b[0mget\u001b[0m\u001b[1;33m(\u001b[0m\u001b[0mitem\u001b[0m\u001b[1;33m)\u001b[0m\u001b[1;33m\u001b[0m\u001b[0m\n\u001b[0m\u001b[0;32m   1067\u001b[0m         \u001b[1;32mif\u001b[0m \u001b[0mres\u001b[0m \u001b[1;32mis\u001b[0m \u001b[1;32mNone\u001b[0m\u001b[1;33m:\u001b[0m\u001b[1;33m\u001b[0m\u001b[0m\n\u001b[0;32m   1068\u001b[0m             \u001b[0mvalues\u001b[0m \u001b[1;33m=\u001b[0m \u001b[0mself\u001b[0m\u001b[1;33m.\u001b[0m\u001b[0m_data\u001b[0m\u001b[1;33m.\u001b[0m\u001b[0mget\u001b[0m\u001b[1;33m(\u001b[0m\u001b[0mitem\u001b[0m\u001b[1;33m)\u001b[0m\u001b[1;33m\u001b[0m\u001b[0m\n",
      "\u001b[1;31mTypeError\u001b[0m: unhashable type: 'slice'"
     ]
    }
   ],
   "source": [
    "cross_terms = cross_terms_ligand_protein(ligand = compound,\n",
    "                                        header_ligand = compound_descriptors,\n",
    "                                        protein = protein,\n",
    "                                        header_protein = protein_descriptors)"
   ]
  },
  {
   "cell_type": "code",
   "execution_count": null,
   "metadata": {
    "collapsed": true
   },
   "outputs": [],
   "source": []
  }
 ],
 "metadata": {
  "kernelspec": {
   "display_name": "Python 3",
   "language": "python",
   "name": "python3"
  },
  "language_info": {
   "codemirror_mode": {
    "name": "ipython",
    "version": 3
   },
   "file_extension": ".py",
   "mimetype": "text/x-python",
   "name": "python",
   "nbconvert_exporter": "python",
   "pygments_lexer": "ipython3",
   "version": "3.3.5"
  }
 },
 "nbformat": 4,
 "nbformat_minor": 0
}
